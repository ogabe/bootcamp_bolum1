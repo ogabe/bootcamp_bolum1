{
 "cells": [
  {
   "cell_type": "markdown",
   "metadata": {},
   "source": [
    "Seçeceğiniz herhangi bir şiiri bilgisayarına .txt dsyası olarak kaydedin. Şiirin kaç dizeden oluştuğunu hesaplayın ve başka bir dosyaya her dizenin ilk kelimesini yazdırın."
   ]
  },
  {
   "cell_type": "code",
   "execution_count": 25,
   "metadata": {},
   "outputs": [
    {
     "name": "stdout",
     "output_type": "stream",
     "text": [
      "12\n",
      "['\\ufeffArtık\\n', 'Meçhule\\n', 'Hiç\\n', 'Sallanmaz\\n', 'Rıhtımda\\n', 'Günlerce\\n', 'Biçare\\n', 'Hicranlı\\n', 'Dünyada\\n', 'Bilmez\\n', 'Birçok\\n', 'Birçok\\n']\n"
     ]
    }
   ],
   "source": [
    "with open(\"/home/mustafa/sessizgemi.txt\", \"r\") as f:\n",
    "    print(len(f.readlines()))\n",
    "    \n",
    "with open(\"/home/mustafa/yeni_sessizgemi.txt\", \"w\") as f2:\n",
    "    with open(\"/home/mustafa/sessizgemi.txt\", \"r\") as f:\n",
    "         for line in f.readlines():\n",
    "            f2.write(line.split(\" \")[0]+\"\\n\")\n",
    "f.close()\n",
    "f2.close()\n",
    "with open(\"/home/mustafa/yeni_sessizgemi.txt\", \"r\") as f2:\n",
    "    print(f2.readlines())\n",
    "            "
   ]
  },
  {
   "cell_type": "markdown",
   "metadata": {},
   "source": [
    "Parametre olarak girilen bir sayının asal sayı olup olmadığını belirten bir fonksiyon yazın."
   ]
  },
  {
   "cell_type": "code",
   "execution_count": 32,
   "metadata": {},
   "outputs": [
    {
     "name": "stdout",
     "output_type": "stream",
     "text": [
      "Sayı Asal\n"
     ]
    }
   ],
   "source": [
    "def asalmi(sayi):\n",
    "    for i in range(2,sayi):\n",
    "        if sayi % i == 0:\n",
    "            print(\"Sayı Asal Değil\")\n",
    "            return False\n",
    "        else:\n",
    "            print(\"Sayı Asal\")\n",
    "            return \n",
    "asalmi(7)"
   ]
  },
  {
   "cell_type": "markdown",
   "metadata": {},
   "source": [
    "Parametre olarak girilecek listenin elemanlarını yeni bir listeye her değer sadece bir kere geçecek şekilde aktaran bir fonksiyon yazın. Normalde bu işlemi set() komutu ile yapabiliriz ama bu seferlik bu komutu kullanmayalım.\n",
    "\n",
    " Örnek : uniq_liste([1,2,2,3,3,4,4]) = [1,2,3,4]"
   ]
  },
  {
   "cell_type": "code",
   "execution_count": 35,
   "metadata": {},
   "outputs": [
    {
     "data": {
      "text/plain": [
       "[1, 2, 3, 4, 5, 6, 7, 8]"
      ]
     },
     "execution_count": 35,
     "metadata": {},
     "output_type": "execute_result"
    }
   ],
   "source": [
    "liste = [1,2,3,3,4,5,5,6,2,3,7,8]\n",
    "\n",
    "def uniq_liste_olusturma():\n",
    "   \n",
    "    uniq_liste = []\n",
    "    \n",
    "    for i in liste:\n",
    "        if i not in uniq_liste:\n",
    "            uniq_liste.append(i)\n",
    "    return uniq_liste      \n",
    "\n",
    "uniq_liste_olusturma()\n",
    "    "
   ]
  },
  {
   "cell_type": "markdown",
   "metadata": {},
   "source": [
    "Python'da hazır birçok modül bulunmaktadır. Zaman ile ilgili modüllerden birisini import ederek, parametre olarak doğum tarihi alan ve yaşı döndüren bir fonksiyon yazınız."
   ]
  },
  {
   "cell_type": "code",
   "execution_count": 40,
   "metadata": {},
   "outputs": [
    {
     "name": "stdout",
     "output_type": "stream",
     "text": [
      "Dogum tarihini gir  :1981\n",
      "2019-02-28\n",
      "38 yaşındasın\n"
     ]
    }
   ],
   "source": [
    "import  datetime\n",
    "\n",
    "dogum_tarihi = int(input(\"Dogum tarihini gir  :\"))\n",
    "tarih = datetime.date.today()\n",
    "yil = tarih.year\n",
    "kac_yil = yil-dogum_tarihi\n",
    "print(tarih)\n",
    "print(\"%d yaşındasın\"%(kac_yil))"
   ]
  },
  {
   "cell_type": "code",
   "execution_count": null,
   "metadata": {},
   "outputs": [],
   "source": []
  }
 ],
 "metadata": {
  "kernelspec": {
   "display_name": "Python 3",
   "language": "python",
   "name": "python3"
  },
  "language_info": {
   "codemirror_mode": {
    "name": "ipython",
    "version": 3
   },
   "file_extension": ".py",
   "mimetype": "text/x-python",
   "name": "python",
   "nbconvert_exporter": "python",
   "pygments_lexer": "ipython3",
   "version": "3.7.1"
  }
 },
 "nbformat": 4,
 "nbformat_minor": 2
}
