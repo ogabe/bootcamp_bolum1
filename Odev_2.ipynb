{
 "cells": [
  {
   "cell_type": "markdown",
   "metadata": {},
   "source": [
    "İçerisinde 7 günün bulunduğu bir sözlük oluşturun. Kullanıcıya günleri listeleyerek 2 farklı gün seçmesini isteyin (örneğin pazartesi ve salı için \"12\" gibi). Kullanıcının seçtiği günleri sözlükten silerek kalan 5 günü ekrana yazdırın."
   ]
  },
  {
   "cell_type": "code",
   "execution_count": 23,
   "metadata": {
    "scrolled": true
   },
   "outputs": [
    {
     "name": "stdout",
     "output_type": "stream",
     "text": [
      "Haftanın Günleri: {'1': 'Pazartesi', '2': 'Salı', '3': 'Çarşamba', '4': 'Perşembe', '5': 'Cuma', '6': 'Cumartesi', '7': 'Pazar'}\n",
      "Silmek için iki gün numarası (12) giriniz: 23\n",
      "Kalan Günler:  {'1': 'Pazartesi', '4': 'Perşembe', '5': 'Cuma', '6': 'Cumartesi', '7': 'Pazar'}\n"
     ]
    }
   ],
   "source": [
    "gunler = {\"1\": \"Pazartesi\", \"2\" : \"Salı\", \"3\" : \"Çarşamba\", \"4\" : \"Perşembe\", \"5\" : \"Cuma\", \"6\" : \"Cumartesi\", \"7\" : \"Pazar\"}\n",
    "print(\"Haftanın Günleri:\", gunler)\n",
    "gun_sec = input(\"Silmek için iki gün numarası (12 gibi) giriniz: \")\n",
    "\n",
    "del gunler[gun_sec[0]]\n",
    "del gunler[gun_sec[1]]\n",
    "print(\"Kalan Günler: \",gunler)"
   ]
  },
  {
   "cell_type": "markdown",
   "metadata": {},
   "source": [
    "Ayların kaç gün çektiğini karıştırabiliyoruz. Bunun için bir liste oluşturun ancak listenizde ay isimleri ve gün sayıları beraber bulunsun (ipucu: listenizin içinde başka bir veri yapısı yer alacak!)."
   ]
  },
  {
   "cell_type": "code",
   "execution_count": 71,
   "metadata": {},
   "outputs": [
    {
     "name": "stdout",
     "output_type": "stream",
     "text": [
      "[['Ocak'], [31], ['Şubat'], [28], ['Mart'], [31], ['Nisan'], [30], ['Mayıs'], [31], ['Haziran'], [30], ['Temmuz'], [31], ['Ağustos'], [31], ['Eylül'], [30], ['Ekim'], [31], ['Kasım'], [30], ['Aralık'], [31]]\n"
     ]
    }
   ],
   "source": [
    "aylar = [[\"Ocak\"], [31], [\"Şubat\"], [28], [\"Mart\"], [31], [\"Nisan\"], [30], [\"Mayıs\"], [31], [\"Haziran\"], [30],\n",
    "          [\"Temmuz\"], [31], [\"Ağustos\"], [31], [\"Eylül\"], [30], [\"Ekim\"], [31], [\"Kasım\"], [30], [\"Aralık\"], [31]]\n",
    "print(aylar)"
   ]
  },
  {
   "cell_type": "markdown",
   "metadata": {},
   "source": [
    "Bilgileri bir önceki listeden alan başka bir ay listesi oluşturun. Bu kez ayları günlerle birlikte listenin içinde iki ayrı listede tutun."
   ]
  },
  {
   "cell_type": "code",
   "execution_count": 74,
   "metadata": {},
   "outputs": [
    {
     "name": "stdout",
     "output_type": "stream",
     "text": [
      "([['Ocak'], ['Şubat'], ['Mart'], ['Nisan'], ['Mayıs'], ['Haziran'], ['Temmuz'], ['Ağustos'], ['Eylül'], ['Ekim'], ['Kasım'], ['Aralık']], [[31], [28], [31], [30], [31], [30], [31], [31], [30], [31], [30], [31]])\n"
     ]
    }
   ],
   "source": [
    "ay_isim = aylar[0:23:2]\n",
    "gun = aylar[1:24:2]\n",
    "yeni_aylar = (ay_isim,gun)\n",
    "print(yeni_aylar)"
   ]
  },
  {
   "cell_type": "markdown",
   "metadata": {},
   "source": [
    "Şimdi ise mevsim mevsim ayrılmış ay listeleri oluşturun. Liste adlarına mevsimlerin adlarını verin.\n",
    "\n"
   ]
  },
  {
   "cell_type": "code",
   "execution_count": 65,
   "metadata": {},
   "outputs": [],
   "source": [
    "ilkbahar = ['Mart', 'Nisan', 'Mayıs']\n",
    "yaz = ['Haziran', 'Temmuz', 'Ağustos']\n",
    "sonbahar = ['Eylül', 'Ekim', 'Kasım']\n",
    "kis = ['Aralık', 'Ocak', 'Şubat']"
   ]
  },
  {
   "cell_type": "markdown",
   "metadata": {},
   "source": [
    "Son olarak, bir önceki sorudaki listeden yaz ayının kaç gün sürdüğünü hesaplayın."
   ]
  },
  {
   "cell_type": "code",
   "execution_count": 83,
   "metadata": {},
   "outputs": [
    {
     "name": "stdout",
     "output_type": "stream",
     "text": [
      "92\n"
     ]
    }
   ],
   "source": [
    "Ocak = Mart = Mayıs = Temmuz = Agustos = Ekim = Aralık = 31\n",
    "Nisan = Haziran = Eylül = Kasım = 30\n",
    "Subat = 28 \n",
    "yaz_gun_sayisi = Haziran + Temmuz + Agustos\n",
    "print(yaz_gun_sayisi)\n",
    "\n"
   ]
  },
  {
   "cell_type": "code",
   "execution_count": null,
   "metadata": {},
   "outputs": [],
   "source": []
  }
 ],
 "metadata": {
  "kernelspec": {
   "display_name": "Python 3",
   "language": "python",
   "name": "python3"
  },
  "language_info": {
   "codemirror_mode": {
    "name": "ipython",
    "version": 3
   },
   "file_extension": ".py",
   "mimetype": "text/x-python",
   "name": "python",
   "nbconvert_exporter": "python",
   "pygments_lexer": "ipython3",
   "version": "3.7.1"
  }
 },
 "nbformat": 4,
 "nbformat_minor": 2
}
