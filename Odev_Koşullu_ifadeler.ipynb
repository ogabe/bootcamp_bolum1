{
 "cells": [
  {
   "cell_type": "markdown",
   "metadata": {},
   "source": [
    "Kullanıcıdan Santigrat ya da Fahrenheit olarak sıcaklık değerini alacak ve diğer sıcaklık birimine çevirecek bir kod yazın. Dönüşüm için C = (5/9) * (F - 32) formülünü kullanabilirsiniz."
   ]
  },
  {
   "cell_type": "code",
   "execution_count": 3,
   "metadata": {},
   "outputs": [
    {
     "name": "stdout",
     "output_type": "stream",
     "text": [
      " *****Sıcaklık Değeri Dönüştürücü*****\n",
      "Sıcaklık Değerini (C/F cinsinden) Giriniz: 35 F\n",
      "Sıcaklık Değeri : 1.6666666666666667 Santigrat derecedir.\n"
     ]
    }
   ],
   "source": [
    "print(\"\"\" *****Sıcaklık Değeri Dönüştürücü*****\"\"\")\n",
    "\n",
    "sicaklik_degeri = input(\"Sıcaklık Değerini (C/F cinsinden) Giriniz: \")\n",
    "\n",
    "if sicaklik_degeri[-1] == \"F\":\n",
    "    C=((5/9)*(int(sicaklik_degeri[:-1])-32))\n",
    "    print(\"Sıcaklık Değeri : {} Santigrat derecedir.\".format(C))\n",
    "\n",
    "elif sicaklik_degeri[-1] == \"C\":\n",
    "    F=(((9/5)*int(sicaklik_degeri[:-1]))+32)\n",
    "    print(\"Sıcaklık Değeri : {} Fahrenheit'dir\".format(F))\n",
    "    \n",
    "else :\n",
    "    print(\"Yanlış bir değer girdiniz!!!\")"
   ]
  },
  {
   "cell_type": "markdown",
   "metadata": {},
   "source": [
    "Kullanıcının girdiği kelimeyi ters çeviren bir kod yazınız."
   ]
  },
  {
   "cell_type": "code",
   "execution_count": 4,
   "metadata": {},
   "outputs": [
    {
     "name": "stdout",
     "output_type": "stream",
     "text": [
      "Bir kelime giriniz:ali\n",
      "ila\n"
     ]
    }
   ],
   "source": [
    "kelime = input(\"Bir kelime giriniz:\")\n",
    "print(kelime[::-1])"
   ]
  },
  {
   "cell_type": "code",
   "execution_count": 5,
   "metadata": {},
   "outputs": [
    {
     "name": "stdout",
     "output_type": "stream",
     "text": [
      "Bir kelime giriniz: ali\n",
      "i\n",
      "l\n",
      "a\n"
     ]
    }
   ],
   "source": [
    "kelime = input(\"Bir kelime giriniz: \")\n",
    "for i in range(len(kelime)-1, -1,-1):\n",
    "    print(kelime[i])"
   ]
  },
  {
   "cell_type": "markdown",
   "metadata": {},
   "source": [
    "1'den 50'ye kadar olan Fibonacci sayılarından oluşan bir liste oluşturun. İlk iki Fibonacci sayısı 1'dir. Sonraki sayılar, önceki iki sayının toplamıdır."
   ]
  },
  {
   "cell_type": "code",
   "execution_count": 6,
   "metadata": {},
   "outputs": [
    {
     "name": "stdout",
     "output_type": "stream",
     "text": [
      "1\n",
      "1\n",
      "2\n",
      "3\n",
      "5\n",
      "8\n",
      "13\n",
      "21\n",
      "34\n"
     ]
    }
   ],
   "source": [
    "a,b = 1,1\n",
    "\n",
    "while (a < 50):\n",
    "    print(a)\n",
    "    a,b = b,a + b"
   ]
  },
  {
   "cell_type": "markdown",
   "metadata": {},
   "source": [
    "Girilen bir sayı için çarpım tablosunu yazdırın."
   ]
  },
  {
   "cell_type": "code",
   "execution_count": 8,
   "metadata": {},
   "outputs": [
    {
     "name": "stdout",
     "output_type": "stream",
     "text": [
      "Lütfen bir sayı giriniz: 5\n",
      "5*1 = 5\n",
      "5*2 = 10\n",
      "5*3 = 15\n",
      "5*4 = 20\n",
      "5*5 = 25\n",
      "5*6 = 30\n",
      "5*7 = 35\n",
      "5*8 = 40\n",
      "5*9 = 45\n",
      "5*10 = 50\n"
     ]
    }
   ],
   "source": [
    "x = int(input(\"Lütfen bir sayı giriniz: \"))\n",
    "for i in range(1,11):\n",
    "    çarp = x*i\n",
    "    print(\"{}*{} = {}\".format(x,i,çarp))"
   ]
  },
  {
   "cell_type": "markdown",
   "metadata": {},
   "source": [
    "List comprehension kullanarak, 1'den 20'ye kadar tek sayıların karesini, çift sayıların küpünü içeren bir liste oluşturun."
   ]
  },
  {
   "cell_type": "code",
   "execution_count": 12,
   "metadata": {},
   "outputs": [
    {
     "name": "stdout",
     "output_type": "stream",
     "text": [
      "[1, 8, 9, 64, 25, 216, 49, 512, 81, 1000, 121, 1728, 169, 2744, 225, 4096, 289, 5832, 361, 8000]\n"
     ]
    }
   ],
   "source": [
    "liste = [i**3 if i%2 == 0 else i**2 for i in range(1,21)]\n",
    "print(liste)"
   ]
  },
  {
   "cell_type": "code",
   "execution_count": null,
   "metadata": {},
   "outputs": [],
   "source": []
  }
 ],
 "metadata": {
  "kernelspec": {
   "display_name": "Python 3",
   "language": "python",
   "name": "python3"
  },
  "language_info": {
   "codemirror_mode": {
    "name": "ipython",
    "version": 3
   },
   "file_extension": ".py",
   "mimetype": "text/x-python",
   "name": "python",
   "nbconvert_exporter": "python",
   "pygments_lexer": "ipython3",
   "version": "3.7.1"
  }
 },
 "nbformat": 4,
 "nbformat_minor": 2
}
