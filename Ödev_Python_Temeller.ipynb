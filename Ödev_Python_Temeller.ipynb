{
 "cells": [
  {
   "cell_type": "markdown",
   "metadata": {},
   "source": [
    "Bitcoin'in iyi kazandırdığı 2017 yılı sonunda yatırım yaptığınızı farz edelim. Günlük ortalama %12 artan bitcoine 1000$ yatırmış olsaydınız bir hafta sonunda paranız ne kadar olurdu?"
   ]
  },
  {
   "cell_type": "code",
   "execution_count": 28,
   "metadata": {
    "scrolled": true
   },
   "outputs": [
    {
     "name": "stdout",
     "output_type": "stream",
     "text": [
      "Birinci gün: 1120.0 $\n"
     ]
    }
   ],
   "source": [
    "anapara = 1000\n",
    "artis = 12/100\n",
    "anapara_1 = anapara + (anapara * artis)\n",
    "print(\"Birinci gün: {} $\".format(anapara_1))"
   ]
  },
  {
   "cell_type": "code",
   "execution_count": 29,
   "metadata": {},
   "outputs": [
    {
     "name": "stdout",
     "output_type": "stream",
     "text": [
      "İkinci gün: 1254.4 $\n"
     ]
    }
   ],
   "source": [
    "anapara_2 = anapara_1 + (anapara_1 * artis)\n",
    "print(\"İkinci gün: {} $\".format(anapara_2))"
   ]
  },
  {
   "cell_type": "code",
   "execution_count": 30,
   "metadata": {},
   "outputs": [
    {
     "name": "stdout",
     "output_type": "stream",
     "text": [
      "Üçüncü gün: 1404.928 $\n"
     ]
    }
   ],
   "source": [
    "anapara_3 = anapara_2 + (anapara_2 * artis)\n",
    "print(\"Üçüncü gün: {} $\".format(anapara_3))"
   ]
  },
  {
   "cell_type": "code",
   "execution_count": 31,
   "metadata": {},
   "outputs": [
    {
     "name": "stdout",
     "output_type": "stream",
     "text": [
      "Dördüncü gün: 1573.5193600000002 $\n"
     ]
    }
   ],
   "source": [
    "anapara_4 = anapara_3 + (anapara_3 * artis)\n",
    "print(\"Dördüncü gün: {} $\".format(anapara_4))"
   ]
  },
  {
   "cell_type": "code",
   "execution_count": 32,
   "metadata": {},
   "outputs": [
    {
     "name": "stdout",
     "output_type": "stream",
     "text": [
      "Beşinci gün: 1762.3416832000003 $\n"
     ]
    }
   ],
   "source": [
    "anapara_5 = anapara_4 + (anapara_4 * artis)\n",
    "print(\"Beşinci gün: {} $\".format(anapara_5))"
   ]
  },
  {
   "cell_type": "code",
   "execution_count": 33,
   "metadata": {},
   "outputs": [
    {
     "name": "stdout",
     "output_type": "stream",
     "text": [
      "Altıncı gün: 1973.8226851840002 $\n"
     ]
    }
   ],
   "source": [
    "anapara_6 = anapara_5 + (anapara_5 * artis)\n",
    "print(\"Altıncı gün: {} $\".format(anapara_6))"
   ]
  },
  {
   "cell_type": "code",
   "execution_count": 50,
   "metadata": {},
   "outputs": [
    {
     "name": "stdout",
     "output_type": "stream",
     "text": [
      "Yedinci gün: 2210.6814074060803 $\n"
     ]
    }
   ],
   "source": [
    "anapara_7 = anapara_6 + (anapara_6 * artis)\n",
    "print(\"Yedinci gün: {} $\".format(anapara_7))"
   ]
  },
  {
   "cell_type": "markdown",
   "metadata": {},
   "source": [
    "Tırnak içindeki metni Python ile yazdırın. Ancak rakamlar değişkenlerden gelmeli. Metin uzun olduğu için iki satıra yazmayı düşünebilirsiniz: \"Hafta başında 1000 dolarlık bitcoin aldığımızda günde ortalama %12 kazançla, bir hafta sonunda 1210.68 dolar kazanırdık.\""
   ]
  },
  {
   "cell_type": "code",
   "execution_count": 58,
   "metadata": {},
   "outputs": [
    {
     "name": "stdout",
     "output_type": "stream",
     "text": [
      "Hafta başında 1000 dolarlık bitcoin aldığımızda günde ortalama 0.12 kazançla, \n",
      "bir hafta sonunda 1210.681 dolar kazanırdık.\n"
     ]
    }
   ],
   "source": [
    "toplam_kazanc = round(anapara_7,3) - anapara\n",
    "print(\"\"\"Hafta başında {} dolarlık bitcoin aldığımızda günde ortalama {} kazançla, \n",
    "bir hafta sonunda {} dolar kazanırdık.\"\"\".format(anapara,artis,toplam_kazanc))\n"
   ]
  },
  {
   "cell_type": "markdown",
   "metadata": {},
   "source": [
    "Kullanıcıdan dosya adını alan ve bu dosya adına \"py\" uzantısı ekleyerek ekrana yazdıran bir kod yazınız."
   ]
  },
  {
   "cell_type": "code",
   "execution_count": 61,
   "metadata": {},
   "outputs": [
    {
     "name": "stdout",
     "output_type": "stream",
     "text": [
      "Dosya adını giriniz: mustafa\n",
      "Dosya adı: mustafa.py\n"
     ]
    }
   ],
   "source": [
    "dosya = input(\"Dosya adını giriniz: \")\n",
    "print(\"Dosya adı: {}.py\".format(dosya))"
   ]
  },
  {
   "cell_type": "code",
   "execution_count": null,
   "metadata": {},
   "outputs": [],
   "source": []
  }
 ],
 "metadata": {
  "kernelspec": {
   "display_name": "Python 3",
   "language": "python",
   "name": "python3"
  },
  "language_info": {
   "codemirror_mode": {
    "name": "ipython",
    "version": 3
   },
   "file_extension": ".py",
   "mimetype": "text/x-python",
   "name": "python",
   "nbconvert_exporter": "python",
   "pygments_lexer": "ipython3",
   "version": "3.7.1"
  }
 },
 "nbformat": 4,
 "nbformat_minor": 2
}
